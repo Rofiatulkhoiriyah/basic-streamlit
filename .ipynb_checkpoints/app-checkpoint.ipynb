{
 "cells": [
  {
   "cell_type": "code",
   "execution_count": 13,
   "id": "e7744504",
   "metadata": {},
   "outputs": [],
   "source": [
    "import calendar\n",
    "from datetime import datetime\n",
    "import streamlit as st\n",
    "import plotly.graph_objects as go"
   ]
  },
  {
   "cell_type": "code",
   "execution_count": 8,
   "id": "5509a364",
   "metadata": {},
   "outputs": [],
   "source": [
    "#SETTINGS\n",
    "incomes = [\"Salary\", \"Blog\", \"Other Income\"]\n",
    "expenses = [\"Rent\", \"Utilities\", \"Groceries\", \"Car\"]\n",
    "currency = \"Rp\"\n",
    "page_title = \"Income and Expense Tracker\"\n",
    "page_icon = \":money_with_wings:\"\n",
    "layout = \"centered\""
   ]
  },
  {
   "cell_type": "code",
   "execution_count": 9,
   "id": "207a918c",
   "metadata": {},
   "outputs": [
    {
     "data": {
      "text/plain": [
       "DeltaGenerator(_root_container=0, _provided_cursor=None, _parent=None, _block_type=None, _form_data=None)"
      ]
     },
     "execution_count": 9,
     "metadata": {},
     "output_type": "execute_result"
    }
   ],
   "source": [
    "st.set_page_config(page_title, page_icon=page_icon, layout =layout)\n",
    "st.title(page_title + \" \" +page_icon)\n"
   ]
  },
  {
   "cell_type": "code",
   "execution_count": 16,
   "id": "c842460f",
   "metadata": {},
   "outputs": [],
   "source": [
    "years = [datetime.today().year, datetime.today().year+1]\n",
    "months = list(calendar.month_name[1:])"
   ]
  },
  {
   "cell_type": "code",
   "execution_count": null,
   "id": "7f3435d9",
   "metadata": {},
   "outputs": [],
   "source": [
    "st.header(f\"Data Entry in {currency}\")\n",
    "with st.form(\"entry_form\", calender_on_submite=True):\n",
    "    col1, col2 = st.columns(2)\n",
    "    col1.selectbox(\"Select Month:\", months, key=\"month\")\n",
    "    col2.selectbox(\"Select Yesr:\"), years, key=\"year\""
   ]
  }
 ],
 "metadata": {
  "kernelspec": {
   "display_name": "Python 3 (ipykernel)",
   "language": "python",
   "name": "python3"
  },
  "language_info": {
   "codemirror_mode": {
    "name": "ipython",
    "version": 3
   },
   "file_extension": ".py",
   "mimetype": "text/x-python",
   "name": "python",
   "nbconvert_exporter": "python",
   "pygments_lexer": "ipython3",
   "version": "3.9.12"
  }
 },
 "nbformat": 4,
 "nbformat_minor": 5
}
