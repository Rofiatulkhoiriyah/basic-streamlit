{
 "cells": [
  {
   "cell_type": "code",
   "execution_count": 13,
   "id": "392eb501",
   "metadata": {},
   "outputs": [],
   "source": [
    "import calendar\n",
    "from datetime import datetime\n",
    "import streamlit as st\n",
    "import plotly.graph_objects as go"
   ]
  },
  {
   "cell_type": "code",
   "execution_count": 8,
   "id": "53035558",
   "metadata": {},
   "outputs": [],
   "source": [
    "#SETTINGS\n",
    "incomes = [\"Salary\", \"Blog\", \"Other Income\"]\n",
    "expenses = [\"Rent\", \"Utilities\", \"Groceries\", \"Car\"]\n",
    "currency = \"Rp\"\n",
    "page_title = \"Income and Expense Tracker\"\n",
    "page_icon = \":money_with_wings:\"\n",
    "layout = \"centered\""
   ]
  },
  {
   "cell_type": "code",
   "execution_count": 9,
   "id": "04464329",
   "metadata": {},
   "outputs": [
    {
     "data": {
      "text/plain": [
       "DeltaGenerator(_root_container=0, _provided_cursor=None, _parent=None, _block_type=None, _form_data=None)"
      ]
     },
     "execution_count": 9,
     "metadata": {},
     "output_type": "execute_result"
    }
   ],
   "source": [
    "st.set_page_config(page_title, page_icon=page_icon, layout =layout)\n",
    "st.title(page_title + \" \" +page_icon)\n"
   ]
  },
  {
   "cell_type": "code",
   "execution_count": 16,
   "id": "6ae0513a",
   "metadata": {},
   "outputs": [],
   "source": [
    "years = [datetime.today().year, datetime.today().year+1]\n",
    "months = list(calendar.month_name[1:])"
   ]
  },
  {
   "cell_type": "code",
   "execution_count": 18,
   "id": "80f3d102",
   "metadata": {},
   "outputs": [
    {
     "ename": "TypeError",
     "evalue": "form() got an unexpected keyword argument 'clear_on_submite'",
     "output_type": "error",
     "traceback": [
      "\u001b[1;31m---------------------------------------------------------------------------\u001b[0m",
      "\u001b[1;31mTypeError\u001b[0m                                 Traceback (most recent call last)",
      "Cell \u001b[1;32mIn [18], line 2\u001b[0m\n\u001b[0;32m      1\u001b[0m st\u001b[38;5;241m.\u001b[39mheader(\u001b[38;5;124mf\u001b[39m\u001b[38;5;124m\"\u001b[39m\u001b[38;5;124mData Entry in \u001b[39m\u001b[38;5;132;01m{\u001b[39;00mcurrency\u001b[38;5;132;01m}\u001b[39;00m\u001b[38;5;124m\"\u001b[39m)\n\u001b[1;32m----> 2\u001b[0m \u001b[38;5;28;01mwith\u001b[39;00m \u001b[43mst\u001b[49m\u001b[38;5;241;43m.\u001b[39;49m\u001b[43mform\u001b[49m\u001b[43m(\u001b[49m\u001b[38;5;124;43m\"\u001b[39;49m\u001b[38;5;124;43mentry_form\u001b[39;49m\u001b[38;5;124;43m\"\u001b[39;49m\u001b[43m,\u001b[49m\u001b[43m \u001b[49m\u001b[43mclear_on_submite\u001b[49m\u001b[38;5;241;43m=\u001b[39;49m\u001b[38;5;28;43;01mTrue\u001b[39;49;00m\u001b[43m)\u001b[49m:\n\u001b[0;32m      3\u001b[0m     col1, col2 \u001b[38;5;241m=\u001b[39m st\u001b[38;5;241m.\u001b[39mcolumns(\u001b[38;5;241m2\u001b[39m)\n\u001b[0;32m      4\u001b[0m     col1\u001b[38;5;241m.\u001b[39mselectbox(\u001b[38;5;124m\"\u001b[39m\u001b[38;5;124mSelect Month:\u001b[39m\u001b[38;5;124m\"\u001b[39m, months, key\u001b[38;5;241m=\u001b[39m\u001b[38;5;124m\"\u001b[39m\u001b[38;5;124mmonth\u001b[39m\u001b[38;5;124m\"\u001b[39m)\n",
      "File \u001b[1;32m~\\miniconda3\\lib\\site-packages\\streamlit\\runtime\\metrics_util.py:311\u001b[0m, in \u001b[0;36mgather_metrics.<locals>.wrapped_func\u001b[1;34m(*args, **kwargs)\u001b[0m\n\u001b[0;32m    309\u001b[0m         _LOGGER\u001b[38;5;241m.\u001b[39mdebug(\u001b[38;5;124m\"\u001b[39m\u001b[38;5;124mFailed to collect command telemetry\u001b[39m\u001b[38;5;124m\"\u001b[39m, exc_info\u001b[38;5;241m=\u001b[39mex)\n\u001b[0;32m    310\u001b[0m \u001b[38;5;28;01mtry\u001b[39;00m:\n\u001b[1;32m--> 311\u001b[0m     result \u001b[38;5;241m=\u001b[39m non_optional_func(\u001b[38;5;241m*\u001b[39margs, \u001b[38;5;241m*\u001b[39m\u001b[38;5;241m*\u001b[39mkwargs)\n\u001b[0;32m    312\u001b[0m \u001b[38;5;28;01mfinally\u001b[39;00m:\n\u001b[0;32m    313\u001b[0m     \u001b[38;5;66;03m# Activate tracking again if command executes without any exceptions\u001b[39;00m\n\u001b[0;32m    314\u001b[0m     \u001b[38;5;28;01mif\u001b[39;00m ctx:\n",
      "\u001b[1;31mTypeError\u001b[0m: form() got an unexpected keyword argument 'clear_on_submite'"
     ]
    }
   ],
   "source": [
    "st.header(f\"Data Entry in {currency}\")\n",
    "with st.form(\"entry_form\", clear_on_submite=True):\n",
    "    col1, col2 = st.columns(2)\n",
    "    col1.selectbox(\"Select Month:\", months, key=\"month\")\n",
    "    col2.selectbox(\"Select Year:\", years, key=\"year\")"
   ]
  },
  {
   "cell_type": "code",
   "execution_count": null,
   "id": "eb05a1ae",
   "metadata": {},
   "outputs": [],
   "source": []
  }
 ],
 "metadata": {
  "kernelspec": {
   "display_name": "Python 3 (ipykernel)",
   "language": "python",
   "name": "python3"
  },
  "language_info": {
   "codemirror_mode": {
    "name": "ipython",
    "version": 3
   },
   "file_extension": ".py",
   "mimetype": "text/x-python",
   "name": "python",
   "nbconvert_exporter": "python",
   "pygments_lexer": "ipython3",
   "version": "3.9.12"
  }
 },
 "nbformat": 4,
 "nbformat_minor": 5
}
